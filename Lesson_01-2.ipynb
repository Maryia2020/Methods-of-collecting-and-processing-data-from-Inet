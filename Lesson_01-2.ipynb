{
  "nbformat": 4,
  "nbformat_minor": 0,
  "metadata": {
    "colab": {
      "name": "Lesson_01.ipynb",
      "provenance": [],
      "collapsed_sections": []
    },
    "kernelspec": {
      "name": "python3",
      "display_name": "Python 3"
    },
    "language_info": {
      "name": "python"
    }
  },
  "cells": [
    {
      "cell_type": "markdown",
      "metadata": {
        "id": "JX4e0uudUunv"
      },
      "source": [
        "**1.Посмотреть документацию к API GitHub, разобраться как вывести список репозиториев для конкретного пользователя, сохранить JSON-вывод в файле *.json.**"
      ]
    },
    {
      "cell_type": "code",
      "metadata": {
        "id": "qJ37ka-JTNHu"
      },
      "source": [
        "import requests\n",
        "import json"
      ],
      "execution_count": null,
      "outputs": []
    },
    {
      "cell_type": "code",
      "metadata": {
        "id": "DWGSxZbvVlGl"
      },
      "source": [
        "# name of user\n",
        "username = 'Maryia2020'"
      ],
      "execution_count": null,
      "outputs": []
    },
    {
      "cell_type": "code",
      "metadata": {
        "id": "bFFTyFlTeO4v"
      },
      "source": [
        "url = f'https://api.github.com/users/{username}/repos'\n",
        "response = requests.get(url)\n",
        "j_data = response.json()"
      ],
      "execution_count": null,
      "outputs": []
    },
    {
      "cell_type": "code",
      "metadata": {
        "colab": {
          "base_uri": "https://localhost:8080/"
        },
        "id": "UmKxrZIqeWXk",
        "outputId": "f3e148ba-55ba-497c-8800-64f9b65e4ddb"
      },
      "source": [
        "print(f'On github.com user {username} has next repositories: ')\n",
        "for i in range(len(j_data)):\n",
        "    print(f'\\t{i+1}. {j_data[i][\"name\"]}')"
      ],
      "execution_count": null,
      "outputs": [
        {
          "output_type": "stream",
          "name": "stdout",
          "text": [
            "On github.com user Maryia2020 has next repositories: \n",
            "\t1. Methods-of-collecting-and-processing-data-from-Inet\n"
          ]
        }
      ]
    },
    {
      "cell_type": "code",
      "metadata": {
        "colab": {
          "base_uri": "https://localhost:8080/"
        },
        "id": "yLxeAGkAetsO",
        "outputId": "d0fca94b-bd51-42fe-ef65-363f1e0c52c1"
      },
      "source": [
        "out_data = {'user': j_data[0]['owner']['login'], \\\n",
        "            'repositories': [j_data[i][\"name\"] for i in range(len(j_data))]}\n",
        "out_data"
      ],
      "execution_count": null,
      "outputs": [
        {
          "output_type": "execute_result",
          "data": {
            "text/plain": [
              "{'repositories': ['Methods-of-collecting-and-processing-data-from-Inet'],\n",
              " 'user': 'Maryia2020'}"
            ]
          },
          "metadata": {},
          "execution_count": 5
        }
      ]
    },
    {
      "cell_type": "code",
      "metadata": {
        "id": "M8vaFALCezDw"
      },
      "source": [
        "file_path = open(\"./user's repositories.json\", 'w')\n",
        "json.dump(out_data, file_path)\n",
        "file_path.close()"
      ],
      "execution_count": null,
      "outputs": []
    },
    {
      "cell_type": "markdown",
      "metadata": {
        "id": "B0zBVXK9fGGn"
      },
      "source": [
        "**2. Возьмите API вконтакте (https://vk.com/dev/first_guide). Сделайте запрос, чтобы получить список всех сообществ на которые вы подписаны.**"
      ]
    },
    {
      "cell_type": "code",
      "metadata": {
        "id": "PMSqbBhifUUX"
      },
      "source": [
        "import requests\n",
        "from pprint import pprint"
      ],
      "execution_count": 11,
      "outputs": []
    },
    {
      "cell_type": "code",
      "metadata": {
        "id": "oEOPLRb2fXrr"
      },
      "source": [
        "token = ''"
      ],
      "execution_count": null,
      "outputs": []
    },
    {
      "cell_type": "code",
      "metadata": {
        "id": "ad7b29Egfal1"
      },
      "source": [
        "url = f'https://api.vk.com/method/groups.get?v=5.81&access_token={token}'\n",
        "response = requests.get(url)\n",
        "response"
      ],
      "execution_count": null,
      "outputs": []
    },
    {
      "cell_type": "code",
      "metadata": {
        "id": "A1DkZwclfgTB"
      },
      "source": [
        "pprint(response.text)"
      ],
      "execution_count": null,
      "outputs": []
    }
  ]
}